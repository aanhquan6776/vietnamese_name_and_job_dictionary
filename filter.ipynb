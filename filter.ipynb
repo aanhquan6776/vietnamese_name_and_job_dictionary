{
 "cells": [
  {
   "cell_type": "code",
   "execution_count": 1,
   "metadata": {},
   "outputs": [],
   "source": [
    "import glob, os\n",
    "import re"
   ]
  },
  {
   "cell_type": "code",
   "execution_count": 2,
   "metadata": {},
   "outputs": [],
   "source": [
    "\"\"\"join a bunch of data file into one file\n",
    "\"\"\"\n",
    "# records = []\n",
    "# outputfile_name = \"merged/ha-noi.txt\"\n",
    "# with open(outputfile_name, \"w\") as outputfile:    \n",
    "#     for file in os.listdir(\"crawled\"):\n",
    "#         if file.startswith(\"_ha-noi_\"):\n",
    "#             inputfile_name = os.path.join(\"crawled\", file)\n",
    "# #             print(inputfile_name)\n",
    "#             with open(inputfile_name, \"r\") as inputfile:\n",
    "#                 records.extend(list(inputfile))\n",
    "#                 records.append('\\n')\n",
    "#     outputfile.write(\"\".join(records))\n",
    "    \n",
    "# print(len(records))                "
   ]
  },
  {
   "cell_type": "code",
   "execution_count": 4,
   "metadata": {},
   "outputs": [
    {
     "name": "stdout",
     "output_type": "stream",
     "text": [
      "447088\n",
      "['NGUYỄN NGỌC ANH', 'PHẠM THỊ HỒNG THẮM', 'PHẠM MINH QUANG', 'PHẠM HỮU TẬP', 'PHAN QUANG BÁ', 'ĐỖ VĂN BÌNH', 'ĐÀO VĂN TUYỂN', 'NGÔ VĂN LỢI', 'ĐÀO VĂN TUẤN', 'TRẦN VĂN TRUNG']\n"
     ]
    }
   ],
   "source": [
    "\"\"\"truncate the phone number\n",
    "\"\"\"\n",
    "# records = []\n",
    "# regex = r\".+(?=\\s-)\"\n",
    "# datafile_name = \"merged/ha-noi.txt\"\n",
    "# with open(datafile_name, \"r\") as inputfile:\n",
    "#     for record in list(inputfile):\n",
    "# #         print(record)\n",
    "#         records.append(re.search(regex, record).group())\n",
    "    \n",
    "# print(len(records))\n",
    "# print(records[:10])\n",
    "# with open(datafile_name, \"w\") as outputfile:\n",
    "#     outputfile.write(\"\\n\".join(records))"
   ]
  },
  {
   "cell_type": "code",
   "execution_count": 18,
   "metadata": {},
   "outputs": [],
   "source": [
    "def loadListFromFile(filename):\n",
    "    result = []\n",
    "    with open(filename, \"r\") as file:\n",
    "        for line in file:\n",
    "            result.append(line[:-1]) # truncate the '\\n' character\n",
    "            \n",
    "    return result\n",
    "\n",
    "def filter_result(records, regexes):\n",
    "    result = []\n",
    "    deleted = []\n",
    "    for record in records:\n",
    "        ok = True\n",
    "        for regex in regexes:\n",
    "            if re.search(regex, record, re.IGNORECASE):\n",
    "                deleted.append(record)\n",
    "                ok = False\n",
    "                break\n",
    "        if ok:\n",
    "            result.append(record)\n",
    "    return result, deleted"
   ]
  },
  {
   "cell_type": "code",
   "execution_count": 22,
   "metadata": {},
   "outputs": [
    {
     "name": "stdout",
     "output_type": "stream",
     "text": [
      "['NGUYỄN NGỌC ANH', 'PHẠM THỊ HỒNG THẮM', 'PHẠM MINH QUANG', 'PHẠM HỮU TẬP', 'PHAN QUANG BÁ', 'ĐỖ VĂN BÌNH', 'ĐÀO VĂN TUYỂN', 'NGÔ VĂN LỢI', 'ĐÀO VĂN TUẤN', 'TRẦN VĂN TRUNG']\n",
      "['UBND', 'DNTN', 'TAXI', 'TNHH', 'CTY', 'HTX', 'CP', 'HĐND', 'TT', 'XD', '.', ',', '-', '\\\\d', 'bưu điện', 'ủy ban', 'Thành ủy', 'Công cộng', 'Tổ chức', 'nội chính', 'Chủ tịch', 'Tuyên giáo', 'Tỉnh ủy', 'Nhà khách', 'dân vận', 'tài chính', 'thư viện', 'công nghệ', 'viễn thông', 'bệnh viện', 'công an', 'ngân hàng', 'công cộng', 'Văn phòng ', 'Chủ tịch nước ', 'Quốc hội', 'Chính phủ', 'Tòa án', 'Nhân dân', 'Tối cao', 'Kiểm sát', 'Thông tin', 'Truyền thông', 'Công an', 'Công thương', 'Giáo dục', 'Đào tạo', 'Giao thông', 'Vận tải', 'Khoa học', 'Công nghệ', 'Kế hoạch', 'Đầu tư', 'Lao động', 'Thương binh', 'Xã hội', 'Nông nghiệp', 'Phát triển', 'Nông thôn', 'Nội vụ', 'Ngoại giao', 'Quốc phòng', 'Tài chính', 'Tài nguyên', 'Môi trường', 'Văn hóa', 'Thể thao', 'Du lịch', 'Xây dựng', 'Y tế', 'Ngân hàng', 'Nhà nước', 'Thanh tra', 'Chính phủ', 'Ủy ban', 'Dân tộc', 'Tổng cục', 'Thể dục', 'Cơ yếu', 'Tôn giáo', 'Quản lý', 'Bảo hiểm', 'Tiếng nói', 'Truyền hình', 'Thông tấn xã', 'Học viện', 'Chính trị', 'Hành chính', 'Thống kê', 'Hải quan', 'Thuế', 'Ủy ban', 'Chứng khoán', 'Kiểm toán', 'Nhà nước', 'Văn phòng', 'Trung ương', 'Kiểm tra', 'Đảng ủy', 'doanh nghiệp', 'cơ quan', 'Kinh tế', 'chiến binh', 'Nông dân', 'Liên đoàn', 'lao động', 'Đoàn Thanh niên', 'Cộng sản', 'Liên hiệp', 'Phụ nữ', 'Mặt trận', 'Tổ quốc', 'Hội đồng', 'Ngoại vụ', 'Nội vụ', 'Tư pháp', 'Chỉ huy', 'Quân sự', 'Chi cục', 'Kiểm lâm', 'phát thanh', 'truyền hình', 'Kho bạc', 'Ngân hàng', 'Phân viện', 'quản trị', 'Đô thị', 'Quận đoàn', 'Huyện đoàn', 'thương mại', 'tiểu học', 'trung học', 'đại học', 'mầm non', 'mẫu giáo']\n",
      "[]\n",
      "447088\n"
     ]
    }
   ],
   "source": [
    "records = loadListFromFile(\"merged/ha-noi.txt\")\n",
    "regexes = loadListFromFile(\"outlier.txt\")\n",
    "print(records[:10])\n",
    "print(regexes)\n",
    "result = filter_result(records, regexes)\n",
    "print(result[0])\n",
    "print(len(result[1]))"
   ]
  },
  {
   "cell_type": "code",
   "execution_count": null,
   "metadata": {},
   "outputs": [],
   "source": [
    "s = \"CTY TNHH QUẢNG CÁO ĐẦU TƯ & SX TM BIỂN VÀNG\"\n",
    "regex = \"CTY\""
   ]
  }
 ],
 "metadata": {
  "kernelspec": {
   "display_name": "Python 3",
   "language": "python",
   "name": "python3"
  },
  "language_info": {
   "codemirror_mode": {
    "name": "ipython",
    "version": 3
   },
   "file_extension": ".py",
   "mimetype": "text/x-python",
   "name": "python",
   "nbconvert_exporter": "python",
   "pygments_lexer": "ipython3",
   "version": "3.7.4"
  }
 },
 "nbformat": 4,
 "nbformat_minor": 2
}
