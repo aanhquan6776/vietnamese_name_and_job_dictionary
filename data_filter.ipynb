{
 "cells": [
  {
   "cell_type": "code",
   "execution_count": 1,
   "metadata": {},
   "outputs": [],
   "source": [
    "import re\n",
    "import json"
   ]
  },
  {
   "cell_type": "code",
   "execution_count": 2,
   "metadata": {},
   "outputs": [],
   "source": [
    "#get data from data file\n",
    "datafile = \"data.txt\"\n",
    "data = []\n",
    "f = open(datafile, \"r\")\n",
    "for line in f:\n",
    "    data.append(line)\n",
    "f.close()"
   ]
  },
  {
   "cell_type": "code",
   "execution_count": 3,
   "metadata": {},
   "outputs": [
    {
     "name": "stdout",
     "output_type": "stream",
     "text": [
      "[]\n"
     ]
    }
   ],
   "source": [
    "print(data)"
   ]
  },
  {
   "cell_type": "code",
   "execution_count": 4,
   "metadata": {},
   "outputs": [
    {
     "name": "stdout",
     "output_type": "stream",
     "text": [
      "1660\n",
      "Bùi Kim Quyên\n",
      "Võ An Phước Thiện\n",
      "Phạm Nguyễn QuỳnhTrân\n",
      "Dương Hoài Phương\n",
      "Phan Vinh Bính\n",
      "Võ Minh Thư\n",
      "Phan Huỳnh Ngọc Dung\n",
      "Nguyễn Vân Anh\n",
      "Nguyễn Thế Vinh\n",
      "Nguyen Thi Thanh Bích\n",
      "Lê Minh Vương\n",
      "nguyễn thiện toàn\n",
      "Trương Gia Mẫn\n",
      "Vương Thu Hiền\n",
      "Châu Thị Kim Anh\n",
      "Trần NGọc Trang\n",
      "huynh minh\n",
      "Cao Minh Hiền\n",
      "Ta thị thanh tuyen\n",
      "Võ Thị Tuyết Vân\n",
      "Mai Khánh Vân\n",
      "Đoàn Thị Mỹ Xuân\n",
      "Doãn Phan Trung Hải\n",
      "Lâm Ngọc Linh\n",
      "Nguyễn Minh Châu\n",
      "Nguyễn Thạch Giang\n",
      "Võ tường duy\n",
      "Trần Thị Kim  Ngân\n",
      "Huỳnh Kim Hoàng\n",
      "Nguyễn Phước Uyên Thư\n",
      "Lê Trung Kiên\n",
      "Sity\n",
      "Kiều Hồng Trang\n",
      "Le Thi Hong Khanh\n",
      "Phạm Văn Đồng\n",
      "Lê Thị Lệ Thủy\n",
      "Trương Yến Thanh\n",
      "Trần Thị Cẩm Tiên\n",
      "Huỳnh Thị Ngọc Thảo\n",
      "Đào Duy Toàn\n",
      "Nguyễn Thùy Như Quỳnh\n",
      "Ngô Phạm Thanh Trúc\n",
      "Trần Phan Bảo Thu\n",
      "Phạm Ngọc Thảo Vi\n",
      "Phan Vũ Minh Quyền\n",
      "Trần Phan Bảo Anh\n",
      "Phạm Hoàng Nam Trung\n",
      "Nguyễn Văn Khải\n",
      "Trương Hoài Thuận\n",
      "Trương Thị Bích Ngọc\n",
      "Khưu Minh Trường\n",
      "Đỗ Nguyễn Nhất Anh\n",
      "Đặng Thị Thủy Tiên\n",
      "Dương phạm Thuỳ an\n",
      "Hồ Thị Bích Ngọc\n",
      "Vũ Ngọc Vân Khanh\n",
      "Đặng Như Ngọc\n",
      "Bùi Duy Quang\n",
      "Nguyễn Huỳnh Thanh Hiền\n",
      "Huỳnh Khánh Duy\n",
      "Nguyễn Đình Đức\n",
      "Lê Nguyễn Kim Ngọc\n",
      "Ngô Nguyệt An\n",
      "ngo kim dung\n",
      "Ngô Cao Sơn\n",
      "Lê Thị Thùy Liên\n",
      "Trần Châu Bảo Ngọc\n",
      "Nguyễn Mai Lê\n",
      "Võ Việt Hản\n",
      "Lục Kim Ngọc\n",
      "Ngô Hồng Nhung\n",
      "Lê Hồng Phúc\n",
      "Lu Kim Hoà\n",
      "Huỳnh Phạm Ngọc Thảo\n",
      "Cai Huỳnh Trúc Vy\n",
      "Phan Hữu Sơn CA\n",
      "Nhâm Bá Duy\n",
      "Nguyen Minh Thuy\n",
      "Nguyễn Hữu Bảo Thơ\n",
      "Đinh Thị Hồng Vân\n",
      "Đinh Thị Hoa\n",
      "Nguyễn Tấn Thành\n",
      "Lương Hòa Nhân\n",
      "Nguyễn Thuỳ Linh\n",
      "Nguyễn Thị Huyền Trâm\n",
      "Lê Thị Ngọc Hoa\n",
      "lê thị diễm hương\n",
      "Vũ Thị Hoàng Quyên\n",
      "Lê Minh Huy\n",
      "Bùi Thị Ngọc Điệp\n",
      "Trần Doanh\n",
      "Nguyễn Trang Oanh\n",
      "Lê Hồ Minh Trâm\n",
      "Trần Khải Huy\n",
      "Lê Thùy Trúc Ly\n",
      "Lê Hàn Uyên\n",
      "Nguyễn Lê Hoàng Phương\n",
      "Nguyễn Thị Thúy An\n",
      "Lê Hạ Lam\n",
      "Ngô Thanh Hà\n",
      "\n"
     ]
    }
   ],
   "source": [
    "#get input file\n",
    "datafile = \"input.txt\"\n",
    "regex = r\"(?<=\\.\\s)([^-\\n():\\d]+)\"\n",
    "newdata = \"\"\n",
    "f = open(datafile, \"r\")\n",
    "for line in f:\n",
    "    match = re.search(regex, line)\n",
    "    if match:\n",
    "        newdata = newdata + match.group().strip() +\"\\n\"\n",
    "        \n",
    "f.close()        \n",
    "print(len(newdata))        \n",
    "print(newdata)"
   ]
  },
  {
   "cell_type": "code",
   "execution_count": 5,
   "metadata": {},
   "outputs": [],
   "source": [
    "#Save back to input file\n",
    "datafile = \"input.txt\"\n",
    "f = open(datafile, \"w\")\n",
    "f.write(newdata)\n",
    "f.close()"
   ]
  },
  {
   "cell_type": "code",
   "execution_count": null,
   "metadata": {},
   "outputs": [],
   "source": []
  }
 ],
 "metadata": {
  "kernelspec": {
   "display_name": "Python 3",
   "language": "python",
   "name": "python3"
  },
  "language_info": {
   "codemirror_mode": {
    "name": "ipython",
    "version": 3
   },
   "file_extension": ".py",
   "mimetype": "text/x-python",
   "name": "python",
   "nbconvert_exporter": "python",
   "pygments_lexer": "ipython3",
   "version": "3.7.4"
  }
 },
 "nbformat": 4,
 "nbformat_minor": 2
}
