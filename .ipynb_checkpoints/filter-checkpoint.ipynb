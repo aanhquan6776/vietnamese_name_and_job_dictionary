{
 "cells": [
  {
   "cell_type": "code",
   "execution_count": 12,
   "metadata": {},
   "outputs": [],
   "source": [
    "import glob, os\n",
    "import re"
   ]
  },
  {
   "cell_type": "code",
   "execution_count": 13,
   "metadata": {},
   "outputs": [],
   "source": [
    "# records = []\n",
    "# outputfile_name = \"merged/ha-noi\"\n",
    "# with open(outputfile_name, \"w\") as outputfile:    \n",
    "#     for file in os.listdir(\"crawled\"):\n",
    "#         if file.startswith(\"_ha-noi_\"):\n",
    "#             inputfile_name = os.path.join(\"crawled\", file)\n",
    "# #             print(inputfile_name)\n",
    "#             with open(inputfile_name, \"r\") as inputfile:\n",
    "#                 records.extend(list(inputfile))\n",
    "#                 records.append('\\n')\n",
    "#     outputfile.write(\"\".join(records))\n",
    "    \n",
    "# print(len(records))                "
   ]
  },
  {
   "cell_type": "code",
   "execution_count": 17,
   "metadata": {},
   "outputs": [
    {
     "name": "stderr",
     "output_type": "stream",
     "text": [
      "IOPub data rate exceeded.\n",
      "The notebook server will temporarily stop sending output\n",
      "to the client in order to avoid crashing it.\n",
      "To change this limit, set the config variable\n",
      "`--NotebookApp.iopub_data_rate_limit`.\n",
      "\n",
      "Current values:\n",
      "NotebookApp.iopub_data_rate_limit=1000000.0 (bytes/sec)\n",
      "NotebookApp.rate_limit_window=3.0 (secs)\n",
      "\n"
     ]
    }
   ],
   "source": [
    "records = []\n",
    "regex = r\".+(?=\\s-)\"\n",
    "datafile_name = \"merged/ha-noi\"\n",
    "with open(datafile_name, \"r\") as inputfile:\n",
    "    for record in list(inputfile):\n",
    "#         print(record)\n",
    "        records.append(re.search(regex, record).group())\n",
    "    \n",
    "print(len(records))\n",
    "print(records)"
   ]
  },
  {
   "cell_type": "code",
   "execution_count": null,
   "metadata": {},
   "outputs": [],
   "source": [
    "with open(datafile_name, \"r\") as outputfile:\n",
    "    outputfile.write(\"\\n\".join(records))"
   ]
  }
 ],
 "metadata": {
  "kernelspec": {
   "display_name": "Python 3",
   "language": "python",
   "name": "python3"
  },
  "language_info": {
   "codemirror_mode": {
    "name": "ipython",
    "version": 3
   },
   "file_extension": ".py",
   "mimetype": "text/x-python",
   "name": "python",
   "nbconvert_exporter": "python",
   "pygments_lexer": "ipython3",
   "version": "3.7.4"
  }
 },
 "nbformat": 4,
 "nbformat_minor": 2
}
