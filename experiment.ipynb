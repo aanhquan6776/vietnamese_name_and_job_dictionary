{
 "cells": [
  {
   "cell_type": "code",
   "execution_count": 1,
   "metadata": {},
   "outputs": [],
   "source": [
    "import re\n",
    "import requests\n",
    "from bs4 import BeautifulSoup"
   ]
  },
  {
   "cell_type": "code",
   "execution_count": 5,
   "metadata": {},
   "outputs": [],
   "source": [
    "# def string_to_float(numstring):\n",
    "#     \"\"\"\n",
    "#         convert a string with splitter ','' and '.' to float\n",
    "#     \"\"\"\n",
    "#     result = 0\n",
    "#     tmp = 0\n",
    "#     begin = 0\n",
    "#     end = len(numstring)\n",
    "    \n",
    "#     if not re.match(r\"\\d{1}\", numstring[-3]):\n",
    "#         tmp = tmp + int(numstring[-2])/10 + int(numstring[-1])/100\n",
    "#         end = end - 3\n",
    "        \n",
    "#     for i in range(begin, end):\n",
    "#         if re.match(r\"\\d{1}\", numstring[i]):\n",
    "#             result = result*10 + int(numstring[i])\n",
    "            \n",
    "#     return result + tmp"
   ]
  },
  {
   "cell_type": "code",
   "execution_count": 5,
   "metadata": {},
   "outputs": [
    {
     "name": "stdout",
     "output_type": "stream",
     "text": [
      "66\n",
      "An Giang /wiki/An_Giang\n",
      "Bà Rịa - Vũng Tàu /wiki/B%C3%A0_R%E1%BB%8Ba_-_V%C5%A9ng_T%C3%A0u\n",
      "Bạc Liêu /wiki/B%E1%BA%A1c_Li%C3%AAu\n",
      "Bắc Giang /wiki/B%E1%BA%AFc_Giang\n",
      "Bắc Kạn /wiki/B%E1%BA%AFc_K%E1%BA%A1n\n",
      "Bắc Ninh /wiki/B%E1%BA%AFc_Ninh\n",
      "Bến Tre /wiki/B%E1%BA%BFn_Tre\n",
      "Bình Dương /wiki/B%C3%ACnh_D%C6%B0%C6%A1ng\n",
      "Bình Định /wiki/B%C3%ACnh_%C4%90%E1%BB%8Bnh\n",
      "Bình Phước /wiki/B%C3%ACnh_Ph%C6%B0%E1%BB%9Bc\n",
      "Bình Thuận /wiki/B%C3%ACnh_Thu%E1%BA%ADn\n",
      "Cà Mau /wiki/C%C3%A0_Mau\n",
      "Cao Bằng /wiki/Cao_B%E1%BA%B1ng\n",
      "Cần Thơ /wiki/C%E1%BA%A7n_Th%C6%A1\n",
      "Đà Nẵng /wiki/%C4%90%C3%A0_N%E1%BA%B5ng\n",
      "Đắk Lắk /wiki/%C4%90%E1%BA%AFk_L%E1%BA%AFk\n",
      "Đắk Nông /wiki/%C4%90%E1%BA%AFk_N%C3%B4ng\n",
      "Điện Biên /wiki/%C4%90i%E1%BB%87n_Bi%C3%AAn\n",
      "Đồng Nai /wiki/%C4%90%E1%BB%93ng_Nai\n",
      "Đồng Tháp /wiki/%C4%90%E1%BB%93ng_Th%C3%A1p\n",
      "Gia Lai /wiki/Gia_Lai\n",
      "Hà Giang /wiki/H%C3%A0_Giang\n",
      "Hà Nam /wiki/H%C3%A0_Nam\n",
      "Hà Nội /wiki/H%C3%A0_N%E1%BB%99i\n",
      "Hà Tĩnh /wiki/H%C3%A0_T%C4%A9nh\n",
      "Hải Dương /wiki/H%E1%BA%A3i_D%C6%B0%C6%A1ng\n",
      "Hải Phòng /wiki/H%E1%BA%A3i_Ph%C3%B2ng\n",
      "Hậu Giang /wiki/H%E1%BA%ADu_Giang\n",
      "Hòa Bình /wiki/H%C3%B2a_B%C3%ACnh\n",
      "Thành phố Hồ Chí Minh /wiki/Th%C3%A0nh_ph%E1%BB%91_H%E1%BB%93_Ch%C3%AD_Minh\n",
      "Hưng Yên /wiki/H%C6%B0ng_Y%C3%AAn\n",
      "Khánh Hòa /wiki/Kh%C3%A1nh_H%C3%B2a\n",
      "Kiên Giang /wiki/Ki%C3%AAn_Giang\n",
      "Kon Tum /wiki/Kon_Tum\n",
      "Lai Châu /wiki/Lai_Ch%C3%A2u\n",
      "Lạng Sơn /wiki/L%E1%BA%A1ng_S%C6%A1n\n",
      "Lào Cai /wiki/L%C3%A0o_Cai\n",
      "Lâm Đồng /wiki/L%C3%A2m_%C4%90%E1%BB%93ng\n",
      "Long An /wiki/Long_An\n",
      "Nam Định /wiki/Nam_%C4%90%E1%BB%8Bnh\n",
      "Nghệ An /wiki/Ngh%E1%BB%87_An\n",
      "Ninh Bình /wiki/Ninh_B%C3%ACnh\n",
      "Ninh Thuận /wiki/Ninh_Thu%E1%BA%ADn\n",
      "Phú Thọ /wiki/Ph%C3%BA_Th%E1%BB%8D\n",
      "Phú Yên /wiki/Ph%C3%BA_Y%C3%AAn\n",
      "Quảng Bình /wiki/Qu%E1%BA%A3ng_B%C3%ACnh\n",
      "Quảng Nam /wiki/Qu%E1%BA%A3ng_Nam\n",
      "Quảng Ngãi /wiki/Qu%E1%BA%A3ng_Ng%C3%A3i\n",
      "Quảng Ninh /wiki/Qu%E1%BA%A3ng_Ninh\n",
      "Quảng Trị /wiki/Qu%E1%BA%A3ng_Tr%E1%BB%8B\n",
      "Sóc Trăng /wiki/S%C3%B3c_Tr%C4%83ng\n",
      "Sơn La /wiki/S%C6%A1n_La\n",
      "Tây Ninh /wiki/T%C3%A2y_Ninh\n",
      "Thái Bình /wiki/Th%C3%A1i_B%C3%ACnh\n",
      "Thái Nguyên /wiki/Th%C3%A1i_Nguy%C3%AAn\n",
      "Thanh Hóa /wiki/Thanh_H%C3%B3a\n",
      "Thừa Thiên - Huế /wiki/Th%E1%BB%ABa_Thi%C3%AAn_-_Hu%E1%BA%BF\n",
      "Tiền Giang /wiki/Ti%E1%BB%81n_Giang\n",
      "Trà Vinh /wiki/Tr%C3%A0_Vinh\n",
      "Tuyên Quang /wiki/Tuy%C3%AAn_Quang\n",
      "Vĩnh Long /wiki/V%C4%A9nh_Long\n",
      "Vĩnh Phúc /wiki/V%C4%A9nh_Ph%C3%BAc\n",
      "Yên Bái /wiki/Y%C3%AAn_B%C3%A1i\n"
     ]
    }
   ],
   "source": [
    "page = requests.get(\"https://vi.wikipedia.org/wiki/Danh_s%C3%A1ch_c%C3%A1c_%C4%91%C6%A1n_v%E1%BB%8B_h%C3%A0nh_ch%C3%ADnh_t%E1%BA%A1i_Vi%E1%BB%87t_Nam\")\n",
    "soup = BeautifulSoup(page.text, 'html.parser')\n",
    "\n",
    "regions = soup.find_all(class_=\"mw-headline\")\n",
    "print(len(regions))\n",
    "for region in regions:\n",
    "    link = region.find('a', href=True)\n",
    "    if link:\n",
    "        print(link.contents[0], link['href'])\n",
    "    "
   ]
  },
  {
   "cell_type": "code",
   "execution_count": null,
   "metadata": {},
   "outputs": [],
   "source": []
  }
 ],
 "metadata": {
  "kernelspec": {
   "display_name": "Python 3",
   "language": "python",
   "name": "python3"
  },
  "language_info": {
   "codemirror_mode": {
    "name": "ipython",
    "version": 3
   },
   "file_extension": ".py",
   "mimetype": "text/x-python",
   "name": "python",
   "nbconvert_exporter": "python",
   "pygments_lexer": "ipython3",
   "version": "3.7.4"
  }
 },
 "nbformat": 4,
 "nbformat_minor": 2
}
