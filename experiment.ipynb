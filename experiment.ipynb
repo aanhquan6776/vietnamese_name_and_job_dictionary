{
 "cells": [
  {
   "cell_type": "code",
   "execution_count": 4,
   "metadata": {},
   "outputs": [],
   "source": [
    "import re\n",
    "import requests\n",
    "from bs4 import BeautifulSoup"
   ]
  },
  {
   "cell_type": "code",
   "execution_count": 5,
   "metadata": {},
   "outputs": [],
   "source": [
    "def string_to_float(numstring):\n",
    "    \"\"\"\n",
    "        convert a string with splitter ','' and '.' to float\n",
    "    \"\"\"\n",
    "    result = 0\n",
    "    tmp = 0\n",
    "    begin = 0\n",
    "    end = len(numstring)\n",
    "    \n",
    "    if not re.match(r\"\\d{1}\", numstring[-3]):\n",
    "        tmp = tmp + int(numstring[-2])/10 + int(numstring[-1])/100\n",
    "        end = end - 3\n",
    "        \n",
    "    for i in range(begin, end):\n",
    "        if re.match(r\"\\d{1}\", numstring[i]):\n",
    "            result = result*10 + int(numstring[i])\n",
    "            \n",
    "    return result + tmp"
   ]
  },
  {
   "cell_type": "code",
   "execution_count": 7,
   "metadata": {},
   "outputs": [
    {
     "name": "stdout",
     "output_type": "stream",
     "text": [
      "4000668\n"
     ]
    }
   ],
   "source": [
    "page = requests.get(\"https://thongtinthuebao.com\")\n",
    "soup = BeautifulSoup(page.text, 'html.parser')\n",
    "\n",
    "regions = soup.find_all(class_=\"badge pull-right\")\n",
    "\n",
    "result = 0\n",
    "for region in regions:\n",
    "    result += string_to_float(region.contents[0])\n",
    "    \n",
    "print(result)"
   ]
  },
  {
   "cell_type": "code",
   "execution_count": null,
   "metadata": {},
   "outputs": [],
   "source": []
  }
 ],
 "metadata": {
  "kernelspec": {
   "display_name": "Python 3",
   "language": "python",
   "name": "python3"
  },
  "language_info": {
   "codemirror_mode": {
    "name": "ipython",
    "version": 3
   },
   "file_extension": ".py",
   "mimetype": "text/x-python",
   "name": "python",
   "nbconvert_exporter": "python",
   "pygments_lexer": "ipython3",
   "version": "3.7.4"
  }
 },
 "nbformat": 4,
 "nbformat_minor": 2
}
